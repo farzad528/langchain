{
 "cells": [
  {
   "cell_type": "markdown",
   "id": "1edb9e6b",
   "metadata": {},
   "source": [
    "# Azure AI Search\n",
    "\n",
    ">[Azure AI Search](https://learn.microsoft.com/azure/search/search-what-is-azure-search) (formerly known as `Azure Cognitive Search`) is a cloud search service that gives developers infrastructure, APIs, and tools for building a rich search experience over private, heterogeneous content in web, mobile, and enterprise applications.\n",
    "\n",
    ">Search is foundational to any app that surfaces text to users, where common scenarios include catalog or document search, online retail apps, or data exploration over proprietary content. When you create a search service, you'll work with the following capabilities:\n",
    ">- A search engine for full text search over a search index containing user-owned content\n",
    ">- Rich indexing, with lexical analysis and optional AI enrichment for content extraction and transformation\n",
    ">- Rich query syntax for text search, fuzzy search, autocomplete, geo-search and more\n",
    ">- Programmability through REST APIs and client libraries in Azure SDKs\n",
    ">- Azure integration at the data layer, machine learning layer, and AI (Cognitive Services)\n",
    "\n",
    "This notebook shows how to use Azure AI Search within LangChain.\n"
   ]
  },
  {
   "cell_type": "markdown",
   "id": "074b0004",
   "metadata": {},
   "source": [
    "## Set up Azure AI Search\n",
    "\n",
    "To set up Azure AI Search, please follow the instructions [here](https://learn.microsoft.com/azure/search/search-create-service-portal).\n",
    "\n",
    "Please note\n",
    "1. the name of your Azure AI Search service, \n",
    "2. the name of your Azure AI Search index,\n",
    "3. your API key.\n",
    "\n",
    "Your API key can be either Admin or Query key, but as we only read data it is recommended to use a Query key.\n"
   ]
  },
  {
   "cell_type": "markdown",
   "id": "0474661d",
   "metadata": {},
   "source": [
    "## Using the Azure AI Search Retriever"
   ]
  },
  {
   "cell_type": "code",
   "execution_count": 19,
   "metadata": {},
   "outputs": [
    {
     "name": "stdout",
     "output_type": "stream",
     "text": [
      "Obtaining file:///C:/Dev/langchain/libs/community\n",
      "  Installing build dependencies: started\n",
      "  Installing build dependencies: finished with status 'done'\n",
      "  Checking if build backend supports build_editable: started\n",
      "  Checking if build backend supports build_editable: finished with status 'done'\n",
      "  Getting requirements to build editable: started\n",
      "  Getting requirements to build editable: finished with status 'done'\n",
      "  Preparing editable metadata (pyproject.toml): started\n",
      "  Preparing editable metadata (pyproject.toml): finished with status 'done'\n",
      "Requirement already satisfied: PyYAML>=5.3 in c:\\users\\fsunavala\\appdata\\local\\programs\\python\\python311\\lib\\site-packages (from langchain-community==0.0.1) (6.0.1)\n",
      "Requirement already satisfied: SQLAlchemy<3,>=1.4 in c:\\users\\fsunavala\\appdata\\local\\programs\\python\\python311\\lib\\site-packages (from langchain-community==0.0.1) (2.0.20)\n",
      "Requirement already satisfied: aiohttp<4.0.0,>=3.8.3 in c:\\users\\fsunavala\\appdata\\local\\programs\\python\\python311\\lib\\site-packages (from langchain-community==0.0.1) (3.9.1)\n",
      "Requirement already satisfied: dataclasses-json<0.7,>=0.5.7 in c:\\users\\fsunavala\\appdata\\local\\programs\\python\\python311\\lib\\site-packages (from langchain-community==0.0.1) (0.5.14)\n",
      "Requirement already satisfied: langchain-core<0.1,>=0.0.13 in c:\\users\\fsunavala\\appdata\\local\\programs\\python\\python311\\lib\\site-packages (from langchain-community==0.0.1) (0.0.13)\n",
      "Requirement already satisfied: langsmith<0.1.0,>=0.0.63 in c:\\users\\fsunavala\\appdata\\local\\programs\\python\\python311\\lib\\site-packages (from langchain-community==0.0.1) (0.0.69)\n",
      "Requirement already satisfied: numpy<2,>=1 in c:\\users\\fsunavala\\appdata\\local\\programs\\python\\python311\\lib\\site-packages (from langchain-community==0.0.1) (1.26.0)\n",
      "Requirement already satisfied: requests<3,>=2 in c:\\users\\fsunavala\\appdata\\local\\programs\\python\\python311\\lib\\site-packages (from langchain-community==0.0.1) (2.31.0)\n",
      "Requirement already satisfied: tenacity<9.0.0,>=8.1.0 in c:\\users\\fsunavala\\appdata\\local\\programs\\python\\python311\\lib\\site-packages (from langchain-community==0.0.1) (8.2.3)\n",
      "Requirement already satisfied: attrs>=17.3.0 in c:\\users\\fsunavala\\appdata\\local\\programs\\python\\python311\\lib\\site-packages (from aiohttp<4.0.0,>=3.8.3->langchain-community==0.0.1) (23.1.0)\n",
      "Requirement already satisfied: multidict<7.0,>=4.5 in c:\\users\\fsunavala\\appdata\\local\\programs\\python\\python311\\lib\\site-packages (from aiohttp<4.0.0,>=3.8.3->langchain-community==0.0.1) (6.0.4)\n",
      "Requirement already satisfied: yarl<2.0,>=1.0 in c:\\users\\fsunavala\\appdata\\local\\programs\\python\\python311\\lib\\site-packages (from aiohttp<4.0.0,>=3.8.3->langchain-community==0.0.1) (1.9.2)\n",
      "Requirement already satisfied: frozenlist>=1.1.1 in c:\\users\\fsunavala\\appdata\\local\\programs\\python\\python311\\lib\\site-packages (from aiohttp<4.0.0,>=3.8.3->langchain-community==0.0.1) (1.4.0)\n",
      "Requirement already satisfied: aiosignal>=1.1.2 in c:\\users\\fsunavala\\appdata\\local\\programs\\python\\python311\\lib\\site-packages (from aiohttp<4.0.0,>=3.8.3->langchain-community==0.0.1) (1.3.1)\n",
      "Requirement already satisfied: marshmallow<4.0.0,>=3.18.0 in c:\\users\\fsunavala\\appdata\\local\\programs\\python\\python311\\lib\\site-packages (from dataclasses-json<0.7,>=0.5.7->langchain-community==0.0.1) (3.20.1)\n",
      "Requirement already satisfied: typing-inspect<1,>=0.4.0 in c:\\users\\fsunavala\\appdata\\local\\programs\\python\\python311\\lib\\site-packages (from dataclasses-json<0.7,>=0.5.7->langchain-community==0.0.1) (0.9.0)\n",
      "Requirement already satisfied: anyio<5,>=3 in c:\\users\\fsunavala\\appdata\\local\\programs\\python\\python311\\lib\\site-packages (from langchain-core<0.1,>=0.0.13->langchain-community==0.0.1) (3.7.1)\n",
      "Requirement already satisfied: jsonpatch<2.0,>=1.33 in c:\\users\\fsunavala\\appdata\\local\\programs\\python\\python311\\lib\\site-packages (from langchain-core<0.1,>=0.0.13->langchain-community==0.0.1) (1.33)\n",
      "Requirement already satisfied: packaging<24.0,>=23.2 in c:\\users\\fsunavala\\appdata\\local\\programs\\python\\python311\\lib\\site-packages (from langchain-core<0.1,>=0.0.13->langchain-community==0.0.1) (23.2)\n",
      "Requirement already satisfied: pydantic<3,>=1 in c:\\users\\fsunavala\\appdata\\local\\programs\\python\\python311\\lib\\site-packages (from langchain-core<0.1,>=0.0.13->langchain-community==0.0.1) (2.3.0)\n",
      "Requirement already satisfied: charset-normalizer<4,>=2 in c:\\users\\fsunavala\\appdata\\local\\programs\\python\\python311\\lib\\site-packages (from requests<3,>=2->langchain-community==0.0.1) (3.2.0)\n",
      "Requirement already satisfied: idna<4,>=2.5 in c:\\users\\fsunavala\\appdata\\local\\programs\\python\\python311\\lib\\site-packages (from requests<3,>=2->langchain-community==0.0.1) (3.4)\n",
      "Requirement already satisfied: urllib3<3,>=1.21.1 in c:\\users\\fsunavala\\appdata\\local\\programs\\python\\python311\\lib\\site-packages (from requests<3,>=2->langchain-community==0.0.1) (1.26.16)\n",
      "Requirement already satisfied: certifi>=2017.4.17 in c:\\users\\fsunavala\\appdata\\local\\programs\\python\\python311\\lib\\site-packages (from requests<3,>=2->langchain-community==0.0.1) (2023.7.22)\n",
      "Requirement already satisfied: typing-extensions>=4.2.0 in c:\\users\\fsunavala\\appdata\\local\\programs\\python\\python311\\lib\\site-packages (from SQLAlchemy<3,>=1.4->langchain-community==0.0.1) (4.8.0rc1)\n",
      "Requirement already satisfied: greenlet!=0.4.17 in c:\\users\\fsunavala\\appdata\\local\\programs\\python\\python311\\lib\\site-packages (from SQLAlchemy<3,>=1.4->langchain-community==0.0.1) (2.0.2)\n",
      "Requirement already satisfied: sniffio>=1.1 in c:\\users\\fsunavala\\appdata\\local\\programs\\python\\python311\\lib\\site-packages (from anyio<5,>=3->langchain-core<0.1,>=0.0.13->langchain-community==0.0.1) (1.3.0)\n",
      "Requirement already satisfied: jsonpointer>=1.9 in c:\\users\\fsunavala\\appdata\\local\\programs\\python\\python311\\lib\\site-packages (from jsonpatch<2.0,>=1.33->langchain-core<0.1,>=0.0.13->langchain-community==0.0.1) (2.4)\n",
      "Requirement already satisfied: annotated-types>=0.4.0 in c:\\users\\fsunavala\\appdata\\local\\programs\\python\\python311\\lib\\site-packages (from pydantic<3,>=1->langchain-core<0.1,>=0.0.13->langchain-community==0.0.1) (0.5.0)\n",
      "Requirement already satisfied: pydantic-core==2.6.3 in c:\\users\\fsunavala\\appdata\\local\\programs\\python\\python311\\lib\\site-packages (from pydantic<3,>=1->langchain-core<0.1,>=0.0.13->langchain-community==0.0.1) (2.6.3)\n",
      "Requirement already satisfied: mypy-extensions>=0.3.0 in c:\\users\\fsunavala\\appdata\\local\\programs\\python\\python311\\lib\\site-packages (from typing-inspect<1,>=0.4.0->dataclasses-json<0.7,>=0.5.7->langchain-community==0.0.1) (1.0.0)\n",
      "Building wheels for collected packages: langchain-community\n",
      "  Building editable for langchain-community (pyproject.toml): started\n",
      "  Building editable for langchain-community (pyproject.toml): finished with status 'done'\n",
      "  Created wheel for langchain-community: filename=langchain_community-0.0.1-py3-none-any.whl size=2309 sha256=e410e8d1cb9e241e346a0aafbb5b5c6bcd7321fcfb2c22238726c1ab400b2d10\n",
      "  Stored in directory: C:\\Users\\fsunavala\\AppData\\Local\\Temp\\pip-ephem-wheel-cache-0iae33mo\\wheels\\5f\\05\\76\\f2d4659e5702c5fbf5b53fa1375635bd688d6dc00ec828ea8d\n",
      "Successfully built langchain-community\n",
      "Installing collected packages: langchain-community\n",
      "  Attempting uninstall: langchain-community\n",
      "    Found existing installation: langchain-community 0.0.1\n",
      "    Uninstalling langchain-community-0.0.1:\n",
      "      Successfully uninstalled langchain-community-0.0.1\n",
      "Successfully installed langchain-community-0.0.1\n",
      "Requirement already satisfied: langchain in c:\\users\\fsunavala\\appdata\\local\\programs\\python\\python311\\lib\\site-packages (0.0.345)\n",
      "Requirement already satisfied: PyYAML>=5.3 in c:\\users\\fsunavala\\appdata\\local\\programs\\python\\python311\\lib\\site-packages (from langchain) (6.0.1)\n",
      "Requirement already satisfied: SQLAlchemy<3,>=1.4 in c:\\users\\fsunavala\\appdata\\local\\programs\\python\\python311\\lib\\site-packages (from langchain) (2.0.20)\n",
      "Requirement already satisfied: aiohttp<4.0.0,>=3.8.3 in c:\\users\\fsunavala\\appdata\\local\\programs\\python\\python311\\lib\\site-packages (from langchain) (3.9.1)\n",
      "Requirement already satisfied: anyio<4.0 in c:\\users\\fsunavala\\appdata\\local\\programs\\python\\python311\\lib\\site-packages (from langchain) (3.7.1)\n",
      "Requirement already satisfied: dataclasses-json<0.7,>=0.5.7 in c:\\users\\fsunavala\\appdata\\local\\programs\\python\\python311\\lib\\site-packages (from langchain) (0.5.14)\n",
      "Requirement already satisfied: jsonpatch<2.0,>=1.33 in c:\\users\\fsunavala\\appdata\\local\\programs\\python\\python311\\lib\\site-packages (from langchain) (1.33)\n",
      "Requirement already satisfied: langchain-core<0.1,>=0.0.9 in c:\\users\\fsunavala\\appdata\\local\\programs\\python\\python311\\lib\\site-packages (from langchain) (0.0.13)\n",
      "Requirement already satisfied: langsmith<0.1.0,>=0.0.63 in c:\\users\\fsunavala\\appdata\\local\\programs\\python\\python311\\lib\\site-packages (from langchain) (0.0.69)\n",
      "Requirement already satisfied: numpy<2,>=1 in c:\\users\\fsunavala\\appdata\\local\\programs\\python\\python311\\lib\\site-packages (from langchain) (1.26.0)\n",
      "Requirement already satisfied: pydantic<3,>=1 in c:\\users\\fsunavala\\appdata\\local\\programs\\python\\python311\\lib\\site-packages (from langchain) (2.3.0)\n",
      "Requirement already satisfied: requests<3,>=2 in c:\\users\\fsunavala\\appdata\\local\\programs\\python\\python311\\lib\\site-packages (from langchain) (2.31.0)\n",
      "Requirement already satisfied: tenacity<9.0.0,>=8.1.0 in c:\\users\\fsunavala\\appdata\\local\\programs\\python\\python311\\lib\\site-packages (from langchain) (8.2.3)\n",
      "Requirement already satisfied: attrs>=17.3.0 in c:\\users\\fsunavala\\appdata\\local\\programs\\python\\python311\\lib\\site-packages (from aiohttp<4.0.0,>=3.8.3->langchain) (23.1.0)\n",
      "Requirement already satisfied: multidict<7.0,>=4.5 in c:\\users\\fsunavala\\appdata\\local\\programs\\python\\python311\\lib\\site-packages (from aiohttp<4.0.0,>=3.8.3->langchain) (6.0.4)\n",
      "Requirement already satisfied: yarl<2.0,>=1.0 in c:\\users\\fsunavala\\appdata\\local\\programs\\python\\python311\\lib\\site-packages (from aiohttp<4.0.0,>=3.8.3->langchain) (1.9.2)\n",
      "Requirement already satisfied: frozenlist>=1.1.1 in c:\\users\\fsunavala\\appdata\\local\\programs\\python\\python311\\lib\\site-packages (from aiohttp<4.0.0,>=3.8.3->langchain) (1.4.0)\n",
      "Requirement already satisfied: aiosignal>=1.1.2 in c:\\users\\fsunavala\\appdata\\local\\programs\\python\\python311\\lib\\site-packages (from aiohttp<4.0.0,>=3.8.3->langchain) (1.3.1)\n",
      "Requirement already satisfied: idna>=2.8 in c:\\users\\fsunavala\\appdata\\local\\programs\\python\\python311\\lib\\site-packages (from anyio<4.0->langchain) (3.4)\n",
      "Requirement already satisfied: sniffio>=1.1 in c:\\users\\fsunavala\\appdata\\local\\programs\\python\\python311\\lib\\site-packages (from anyio<4.0->langchain) (1.3.0)\n",
      "Requirement already satisfied: marshmallow<4.0.0,>=3.18.0 in c:\\users\\fsunavala\\appdata\\local\\programs\\python\\python311\\lib\\site-packages (from dataclasses-json<0.7,>=0.5.7->langchain) (3.20.1)\n",
      "Requirement already satisfied: typing-inspect<1,>=0.4.0 in c:\\users\\fsunavala\\appdata\\local\\programs\\python\\python311\\lib\\site-packages (from dataclasses-json<0.7,>=0.5.7->langchain) (0.9.0)\n",
      "Requirement already satisfied: jsonpointer>=1.9 in c:\\users\\fsunavala\\appdata\\local\\programs\\python\\python311\\lib\\site-packages (from jsonpatch<2.0,>=1.33->langchain) (2.4)\n",
      "Requirement already satisfied: packaging<24.0,>=23.2 in c:\\users\\fsunavala\\appdata\\local\\programs\\python\\python311\\lib\\site-packages (from langchain-core<0.1,>=0.0.9->langchain) (23.2)\n",
      "Requirement already satisfied: annotated-types>=0.4.0 in c:\\users\\fsunavala\\appdata\\local\\programs\\python\\python311\\lib\\site-packages (from pydantic<3,>=1->langchain) (0.5.0)\n",
      "Requirement already satisfied: pydantic-core==2.6.3 in c:\\users\\fsunavala\\appdata\\local\\programs\\python\\python311\\lib\\site-packages (from pydantic<3,>=1->langchain) (2.6.3)\n",
      "Requirement already satisfied: typing-extensions>=4.6.1 in c:\\users\\fsunavala\\appdata\\local\\programs\\python\\python311\\lib\\site-packages (from pydantic<3,>=1->langchain) (4.8.0rc1)\n",
      "Requirement already satisfied: charset-normalizer<4,>=2 in c:\\users\\fsunavala\\appdata\\local\\programs\\python\\python311\\lib\\site-packages (from requests<3,>=2->langchain) (3.2.0)\n",
      "Requirement already satisfied: urllib3<3,>=1.21.1 in c:\\users\\fsunavala\\appdata\\local\\programs\\python\\python311\\lib\\site-packages (from requests<3,>=2->langchain) (1.26.16)\n",
      "Requirement already satisfied: certifi>=2017.4.17 in c:\\users\\fsunavala\\appdata\\local\\programs\\python\\python311\\lib\\site-packages (from requests<3,>=2->langchain) (2023.7.22)\n",
      "Requirement already satisfied: greenlet!=0.4.17 in c:\\users\\fsunavala\\appdata\\local\\programs\\python\\python311\\lib\\site-packages (from SQLAlchemy<3,>=1.4->langchain) (2.0.2)\n",
      "Requirement already satisfied: mypy-extensions>=0.3.0 in c:\\users\\fsunavala\\appdata\\local\\programs\\python\\python311\\lib\\site-packages (from typing-inspect<1,>=0.4.0->dataclasses-json<0.7,>=0.5.7->langchain) (1.0.0)\n",
      "Requirement already satisfied: langchain-community in c:\\users\\fsunavala\\appdata\\local\\programs\\python\\python311\\lib\\site-packages (0.0.1)\n",
      "Requirement already satisfied: PyYAML>=5.3 in c:\\users\\fsunavala\\appdata\\local\\programs\\python\\python311\\lib\\site-packages (from langchain-community) (6.0.1)\n",
      "Requirement already satisfied: SQLAlchemy<3,>=1.4 in c:\\users\\fsunavala\\appdata\\local\\programs\\python\\python311\\lib\\site-packages (from langchain-community) (2.0.20)\n",
      "Requirement already satisfied: aiohttp<4.0.0,>=3.8.3 in c:\\users\\fsunavala\\appdata\\local\\programs\\python\\python311\\lib\\site-packages (from langchain-community) (3.9.1)\n",
      "Requirement already satisfied: dataclasses-json<0.7,>=0.5.7 in c:\\users\\fsunavala\\appdata\\local\\programs\\python\\python311\\lib\\site-packages (from langchain-community) (0.5.14)\n",
      "Requirement already satisfied: langchain-core<0.1,>=0.0.13 in c:\\users\\fsunavala\\appdata\\local\\programs\\python\\python311\\lib\\site-packages (from langchain-community) (0.0.13)\n",
      "Requirement already satisfied: langsmith<0.1.0,>=0.0.63 in c:\\users\\fsunavala\\appdata\\local\\programs\\python\\python311\\lib\\site-packages (from langchain-community) (0.0.69)\n",
      "Requirement already satisfied: numpy<2,>=1 in c:\\users\\fsunavala\\appdata\\local\\programs\\python\\python311\\lib\\site-packages (from langchain-community) (1.26.0)\n",
      "Requirement already satisfied: requests<3,>=2 in c:\\users\\fsunavala\\appdata\\local\\programs\\python\\python311\\lib\\site-packages (from langchain-community) (2.31.0)\n",
      "Requirement already satisfied: tenacity<9.0.0,>=8.1.0 in c:\\users\\fsunavala\\appdata\\local\\programs\\python\\python311\\lib\\site-packages (from langchain-community) (8.2.3)\n",
      "Requirement already satisfied: attrs>=17.3.0 in c:\\users\\fsunavala\\appdata\\local\\programs\\python\\python311\\lib\\site-packages (from aiohttp<4.0.0,>=3.8.3->langchain-community) (23.1.0)\n",
      "Requirement already satisfied: multidict<7.0,>=4.5 in c:\\users\\fsunavala\\appdata\\local\\programs\\python\\python311\\lib\\site-packages (from aiohttp<4.0.0,>=3.8.3->langchain-community) (6.0.4)\n",
      "Requirement already satisfied: yarl<2.0,>=1.0 in c:\\users\\fsunavala\\appdata\\local\\programs\\python\\python311\\lib\\site-packages (from aiohttp<4.0.0,>=3.8.3->langchain-community) (1.9.2)\n",
      "Requirement already satisfied: frozenlist>=1.1.1 in c:\\users\\fsunavala\\appdata\\local\\programs\\python\\python311\\lib\\site-packages (from aiohttp<4.0.0,>=3.8.3->langchain-community) (1.4.0)\n",
      "Requirement already satisfied: aiosignal>=1.1.2 in c:\\users\\fsunavala\\appdata\\local\\programs\\python\\python311\\lib\\site-packages (from aiohttp<4.0.0,>=3.8.3->langchain-community) (1.3.1)\n",
      "Requirement already satisfied: marshmallow<4.0.0,>=3.18.0 in c:\\users\\fsunavala\\appdata\\local\\programs\\python\\python311\\lib\\site-packages (from dataclasses-json<0.7,>=0.5.7->langchain-community) (3.20.1)\n",
      "Requirement already satisfied: typing-inspect<1,>=0.4.0 in c:\\users\\fsunavala\\appdata\\local\\programs\\python\\python311\\lib\\site-packages (from dataclasses-json<0.7,>=0.5.7->langchain-community) (0.9.0)\n",
      "Requirement already satisfied: anyio<5,>=3 in c:\\users\\fsunavala\\appdata\\local\\programs\\python\\python311\\lib\\site-packages (from langchain-core<0.1,>=0.0.13->langchain-community) (3.7.1)\n",
      "Requirement already satisfied: jsonpatch<2.0,>=1.33 in c:\\users\\fsunavala\\appdata\\local\\programs\\python\\python311\\lib\\site-packages (from langchain-core<0.1,>=0.0.13->langchain-community) (1.33)\n",
      "Requirement already satisfied: packaging<24.0,>=23.2 in c:\\users\\fsunavala\\appdata\\local\\programs\\python\\python311\\lib\\site-packages (from langchain-core<0.1,>=0.0.13->langchain-community) (23.2)\n",
      "Requirement already satisfied: pydantic<3,>=1 in c:\\users\\fsunavala\\appdata\\local\\programs\\python\\python311\\lib\\site-packages (from langchain-core<0.1,>=0.0.13->langchain-community) (2.3.0)\n",
      "Requirement already satisfied: charset-normalizer<4,>=2 in c:\\users\\fsunavala\\appdata\\local\\programs\\python\\python311\\lib\\site-packages (from requests<3,>=2->langchain-community) (3.2.0)\n",
      "Requirement already satisfied: idna<4,>=2.5 in c:\\users\\fsunavala\\appdata\\local\\programs\\python\\python311\\lib\\site-packages (from requests<3,>=2->langchain-community) (3.4)\n",
      "Requirement already satisfied: urllib3<3,>=1.21.1 in c:\\users\\fsunavala\\appdata\\local\\programs\\python\\python311\\lib\\site-packages (from requests<3,>=2->langchain-community) (1.26.16)\n",
      "Requirement already satisfied: certifi>=2017.4.17 in c:\\users\\fsunavala\\appdata\\local\\programs\\python\\python311\\lib\\site-packages (from requests<3,>=2->langchain-community) (2023.7.22)\n",
      "Requirement already satisfied: typing-extensions>=4.2.0 in c:\\users\\fsunavala\\appdata\\local\\programs\\python\\python311\\lib\\site-packages (from SQLAlchemy<3,>=1.4->langchain-community) (4.8.0rc1)\n",
      "Requirement already satisfied: greenlet!=0.4.17 in c:\\users\\fsunavala\\appdata\\local\\programs\\python\\python311\\lib\\site-packages (from SQLAlchemy<3,>=1.4->langchain-community) (2.0.2)\n",
      "Requirement already satisfied: sniffio>=1.1 in c:\\users\\fsunavala\\appdata\\local\\programs\\python\\python311\\lib\\site-packages (from anyio<5,>=3->langchain-core<0.1,>=0.0.13->langchain-community) (1.3.0)\n",
      "Requirement already satisfied: jsonpointer>=1.9 in c:\\users\\fsunavala\\appdata\\local\\programs\\python\\python311\\lib\\site-packages (from jsonpatch<2.0,>=1.33->langchain-core<0.1,>=0.0.13->langchain-community) (2.4)\n",
      "Requirement already satisfied: annotated-types>=0.4.0 in c:\\users\\fsunavala\\appdata\\local\\programs\\python\\python311\\lib\\site-packages (from pydantic<3,>=1->langchain-core<0.1,>=0.0.13->langchain-community) (0.5.0)\n",
      "Requirement already satisfied: pydantic-core==2.6.3 in c:\\users\\fsunavala\\appdata\\local\\programs\\python\\python311\\lib\\site-packages (from pydantic<3,>=1->langchain-core<0.1,>=0.0.13->langchain-community) (2.6.3)\n",
      "Requirement already satisfied: mypy-extensions>=0.3.0 in c:\\users\\fsunavala\\appdata\\local\\programs\\python\\python311\\lib\\site-packages (from typing-inspect<1,>=0.4.0->dataclasses-json<0.7,>=0.5.7->langchain-community) (1.0.0)\n"
     ]
    }
   ],
   "source": [
    "! pip install -e \"C:\\Dev\\langchain\\libs\\community\"\n",
    "! pip install langchain\n",
    "! pip install langchain-community"
   ]
  },
  {
   "cell_type": "code",
   "execution_count": 21,
   "metadata": {},
   "outputs": [
    {
     "ename": "ImportError",
     "evalue": "cannot import name 'get_from_dict_or_env' from 'langchain_core.utils' (c:\\Users\\fsunavala\\AppData\\Local\\Programs\\Python\\Python311\\Lib\\site-packages\\langchain_core\\utils\\__init__.py)",
     "output_type": "error",
     "traceback": [
      "\u001b[1;31m---------------------------------------------------------------------------\u001b[0m",
      "\u001b[1;31mImportError\u001b[0m                               Traceback (most recent call last)",
      "\u001b[1;32mc:\\Dev\\langchain\\docs\\docs\\integrations\\retrievers\\azure_ai_search.ipynb Cell 5\u001b[0m line \u001b[0;36m3\n\u001b[0;32m      <a href='vscode-notebook-cell:/c%3A/Dev/langchain/docs/docs/integrations/retrievers/azure_ai_search.ipynb#X24sZmlsZQ%3D%3D?line=0'>1</a>\u001b[0m \u001b[39mimport\u001b[39;00m \u001b[39mos\u001b[39;00m\n\u001b[1;32m----> <a href='vscode-notebook-cell:/c%3A/Dev/langchain/docs/docs/integrations/retrievers/azure_ai_search.ipynb#X24sZmlsZQ%3D%3D?line=2'>3</a>\u001b[0m \u001b[39mfrom\u001b[39;00m \u001b[39mlangchain_community\u001b[39;00m\u001b[39m.\u001b[39;00m\u001b[39mretrievers\u001b[39;00m \u001b[39mimport\u001b[39;00m AzureAISearchRetriever\n",
      "File \u001b[1;32mC:\\Dev\\langchain\\libs\\community\\langchain_community\\retrievers\\__init__.py:21\u001b[0m\n\u001b[0;32m      1\u001b[0m \u001b[39m\"\"\"**Retriever** class returns Documents given a text **query**.\u001b[39;00m\n\u001b[0;32m      2\u001b[0m \n\u001b[0;32m      3\u001b[0m \u001b[39mIt is more general than a vector store. A retriever does not need to be able to\u001b[39;00m\n\u001b[1;32m   (...)\u001b[0m\n\u001b[0;32m     18\u001b[0m \u001b[39m    CallbackManagerForRetrieverRun, AsyncCallbackManagerForRetrieverRun\u001b[39;00m\n\u001b[0;32m     19\u001b[0m \u001b[39m\"\"\"\u001b[39;00m\n\u001b[1;32m---> 21\u001b[0m \u001b[39mfrom\u001b[39;00m \u001b[39mlangchain_community\u001b[39;00m\u001b[39m.\u001b[39;00m\u001b[39mretrievers\u001b[39;00m\u001b[39m.\u001b[39;00m\u001b[39marcee\u001b[39;00m \u001b[39mimport\u001b[39;00m ArceeRetriever\n\u001b[0;32m     22\u001b[0m \u001b[39mfrom\u001b[39;00m \u001b[39mlangchain_community\u001b[39;00m\u001b[39m.\u001b[39;00m\u001b[39mretrievers\u001b[39;00m\u001b[39m.\u001b[39;00m\u001b[39marxiv\u001b[39;00m \u001b[39mimport\u001b[39;00m ArxivRetriever\n\u001b[0;32m     23\u001b[0m \u001b[39mfrom\u001b[39;00m \u001b[39mlangchain_community\u001b[39;00m\u001b[39m.\u001b[39;00m\u001b[39mretrievers\u001b[39;00m\u001b[39m.\u001b[39;00m\u001b[39mazure_cognitive_search\u001b[39;00m \u001b[39mimport\u001b[39;00m (\n\u001b[0;32m     24\u001b[0m     AzureCognitiveSearchRetriever,\n\u001b[0;32m     25\u001b[0m )\n",
      "File \u001b[1;32mC:\\Dev\\langchain\\libs\\community\\langchain_community\\retrievers\\arcee.py:7\u001b[0m\n\u001b[0;32m      5\u001b[0m \u001b[39mfrom\u001b[39;00m \u001b[39mlangchain_core\u001b[39;00m\u001b[39m.\u001b[39;00m\u001b[39mpydantic_v1\u001b[39;00m \u001b[39mimport\u001b[39;00m Extra, SecretStr, root_validator\n\u001b[0;32m      6\u001b[0m \u001b[39mfrom\u001b[39;00m \u001b[39mlangchain_core\u001b[39;00m\u001b[39m.\u001b[39;00m\u001b[39mretrievers\u001b[39;00m \u001b[39mimport\u001b[39;00m BaseRetriever\n\u001b[1;32m----> 7\u001b[0m \u001b[39mfrom\u001b[39;00m \u001b[39mlangchain_core\u001b[39;00m\u001b[39m.\u001b[39;00m\u001b[39mutils\u001b[39;00m \u001b[39mimport\u001b[39;00m convert_to_secret_str, get_from_dict_or_env\n\u001b[0;32m      9\u001b[0m \u001b[39mfrom\u001b[39;00m \u001b[39mlangchain_community\u001b[39;00m\u001b[39m.\u001b[39;00m\u001b[39mutilities\u001b[39;00m\u001b[39m.\u001b[39;00m\u001b[39marcee\u001b[39;00m \u001b[39mimport\u001b[39;00m ArceeWrapper, DALMFilter\n\u001b[0;32m     12\u001b[0m \u001b[39mclass\u001b[39;00m \u001b[39mArceeRetriever\u001b[39;00m(BaseRetriever):\n",
      "\u001b[1;31mImportError\u001b[0m: cannot import name 'get_from_dict_or_env' from 'langchain_core.utils' (c:\\Users\\fsunavala\\AppData\\Local\\Programs\\Python\\Python311\\Lib\\site-packages\\langchain_core\\utils\\__init__.py)"
     ]
    }
   ],
   "source": [
    "import os\n",
    "\n",
    "from langchain_community.retrievers import AzureAISearchRetriever\n",
    "\n"
   ]
  },
  {
   "cell_type": "markdown",
   "id": "b7243e6d",
   "metadata": {},
   "source": [
    "Set Service Name, Index Name and API key as environment variables (alternatively, you can pass them as arguments to `AzureAISearchRetriever`).\n"
   ]
  },
  {
   "cell_type": "code",
   "execution_count": 6,
   "id": "33fd23d1",
   "metadata": {},
   "outputs": [],
   "source": [
    "# Update the environment variable names to match the Azure AI Search service\n",
    "os.environ[\"AZURE_AI_SEARCH_SERVICE_NAME\"] = \"<YOUR_AZURE_AI_SEARCH_SERVICE_NAME>\"\n",
    "os.environ[\"AZURE_AI_SEARCH_INDEX_NAME\"] = \"<YOUR_AZURE_AI_SEARCH_INDEX_NAME>\"\n",
    "os.environ[\"AZURE_AI_SEARCH_API_KEY\"] = \"<YOUR_API_KEY>\"\n"
   ]
  },
  {
   "cell_type": "markdown",
   "id": "057deaad",
   "metadata": {},
   "source": [
    "Create the Retriever"
   ]
  },
  {
   "cell_type": "code",
   "execution_count": 7,
   "id": "c18d0c4c",
   "metadata": {},
   "outputs": [
    {
     "ename": "NameError",
     "evalue": "name 'AzureAISearchRetriever' is not defined",
     "output_type": "error",
     "traceback": [
      "\u001b[1;31m---------------------------------------------------------------------------\u001b[0m",
      "\u001b[1;31mNameError\u001b[0m                                 Traceback (most recent call last)",
      "\u001b[1;32mc:\\Dev\\langchain\\docs\\docs\\integrations\\retrievers\\azure_ai_search.ipynb Cell 8\u001b[0m line \u001b[0;36m2\n\u001b[0;32m      <a href='vscode-notebook-cell:/c%3A/Dev/langchain/docs/docs/integrations/retrievers/azure_ai_search.ipynb#X10sZmlsZQ%3D%3D?line=0'>1</a>\u001b[0m \u001b[39m# Instantiate the AzureAISearchRetriever with the content_key and top_k parameters\u001b[39;00m\n\u001b[1;32m----> <a href='vscode-notebook-cell:/c%3A/Dev/langchain/docs/docs/integrations/retrievers/azure_ai_search.ipynb#X10sZmlsZQ%3D%3D?line=1'>2</a>\u001b[0m retriever \u001b[39m=\u001b[39m AzureAISearchRetriever(content_key\u001b[39m=\u001b[39m\u001b[39m\"\u001b[39m\u001b[39mcontent\u001b[39m\u001b[39m\"\u001b[39m, top_k\u001b[39m=\u001b[39m\u001b[39m10\u001b[39m)\n",
      "\u001b[1;31mNameError\u001b[0m: name 'AzureAISearchRetriever' is not defined"
     ]
    }
   ],
   "source": [
    "# Instantiate the AzureAISearchRetriever with the content_key and top_k parameters\n",
    "retriever = AzureAISearchRetriever(content_key=\"content\", top_k=10)\n"
   ]
  },
  {
   "cell_type": "markdown",
   "id": "e94ea104",
   "metadata": {},
   "source": [
    "Now you can use the retriever to retrieve documents from Azure AI Search\n"
   ]
  },
  {
   "cell_type": "code",
   "execution_count": 8,
   "id": "c8b5794b",
   "metadata": {},
   "outputs": [
    {
     "ename": "NameError",
     "evalue": "name 'retriever' is not defined",
     "output_type": "error",
     "traceback": [
      "\u001b[1;31m---------------------------------------------------------------------------\u001b[0m",
      "\u001b[1;31mNameError\u001b[0m                                 Traceback (most recent call last)",
      "\u001b[1;32mc:\\Dev\\langchain\\docs\\docs\\integrations\\retrievers\\azure_ai_search.ipynb Cell 10\u001b[0m line \u001b[0;36m2\n\u001b[0;32m      <a href='vscode-notebook-cell:/c%3A/Dev/langchain/docs/docs/integrations/retrievers/azure_ai_search.ipynb#X12sZmlsZQ%3D%3D?line=0'>1</a>\u001b[0m \u001b[39m# Retrieve documents using the retriever\u001b[39;00m\n\u001b[1;32m----> <a href='vscode-notebook-cell:/c%3A/Dev/langchain/docs/docs/integrations/retrievers/azure_ai_search.ipynb#X12sZmlsZQ%3D%3D?line=1'>2</a>\u001b[0m retriever\u001b[39m.\u001b[39mget_relevant_documents(\u001b[39m\"\u001b[39m\u001b[39mwhat is langchain\u001b[39m\u001b[39m\"\u001b[39m)\n",
      "\u001b[1;31mNameError\u001b[0m: name 'retriever' is not defined"
     ]
    }
   ],
   "source": [
    "# Retrieve documents using the retriever\n",
    "retriever.get_relevant_documents(\"what is langchain\")\n"
   ]
  },
  {
   "cell_type": "markdown",
   "id": "72eca08e",
   "metadata": {},
   "source": [
    "You can change the number of results returned with the `top_k` parameter. The default value is `None`, which returns all results. "
   ]
  },
  {
   "cell_type": "code",
   "execution_count": 9,
   "metadata": {},
   "outputs": [
    {
     "ename": "NameError",
     "evalue": "name 'AzureAISearchRetriever' is not defined",
     "output_type": "error",
     "traceback": [
      "\u001b[1;31m---------------------------------------------------------------------------\u001b[0m",
      "\u001b[1;31mNameError\u001b[0m                                 Traceback (most recent call last)",
      "\u001b[1;32mc:\\Dev\\langchain\\docs\\docs\\integrations\\retrievers\\azure_ai_search.ipynb Cell 12\u001b[0m line \u001b[0;36m2\n\u001b[0;32m      <a href='vscode-notebook-cell:/c%3A/Dev/langchain/docs/docs/integrations/retrievers/azure_ai_search.ipynb#X21sZmlsZQ%3D%3D?line=0'>1</a>\u001b[0m \u001b[39m# Example of using the top_k parameter to limit the number of results\u001b[39;00m\n\u001b[1;32m----> <a href='vscode-notebook-cell:/c%3A/Dev/langchain/docs/docs/integrations/retrievers/azure_ai_search.ipynb#X21sZmlsZQ%3D%3D?line=1'>2</a>\u001b[0m retriever \u001b[39m=\u001b[39m AzureAISearchRetriever(content_key\u001b[39m=\u001b[39m\u001b[39m\"\u001b[39m\u001b[39mcontent\u001b[39m\u001b[39m\"\u001b[39m, top_k\u001b[39m=\u001b[39m\u001b[39m5\u001b[39m)\n\u001b[0;32m      <a href='vscode-notebook-cell:/c%3A/Dev/langchain/docs/docs/integrations/retrievers/azure_ai_search.ipynb#X21sZmlsZQ%3D%3D?line=2'>3</a>\u001b[0m retriever\u001b[39m.\u001b[39mget_relevant_documents(\u001b[39m\"\u001b[39m\u001b[39mwhat is langchain\u001b[39m\u001b[39m\"\u001b[39m)\n",
      "\u001b[1;31mNameError\u001b[0m: name 'AzureAISearchRetriever' is not defined"
     ]
    }
   ],
   "source": [
    "# Example of using the top_k parameter to limit the number of results\n",
    "retriever = AzureAISearchRetriever(content_key=\"content\", top_k=5)\n",
    "retriever.get_relevant_documents(\"what is langchain\")\n"
   ]
  }
 ],
 "metadata": {
  "kernelspec": {
   "display_name": "Python 3 (ipykernel)",
   "language": "python",
   "name": "python3"
  },
  "language_info": {
   "codemirror_mode": {
    "name": "ipython",
    "version": 3
   },
   "file_extension": ".py",
   "mimetype": "text/x-python",
   "name": "python",
   "nbconvert_exporter": "python",
   "pygments_lexer": "ipython3",
   "version": "3.11.6"
  }
 },
 "nbformat": 4,
 "nbformat_minor": 5
}
